{
  "nbformat": 4,
  "nbformat_minor": 0,
  "metadata": {
    "colab": {
      "provenance": [],
      "authorship_tag": "ABX9TyMukZnfS5UizW6SoT0vAii2",
      "include_colab_link": true
    },
    "kernelspec": {
      "name": "python3",
      "display_name": "Python 3"
    },
    "language_info": {
      "name": "python"
    }
  },
  "cells": [
    {
      "cell_type": "markdown",
      "metadata": {
        "id": "view-in-github",
        "colab_type": "text"
      },
      "source": [
        "<a href=\"https://colab.research.google.com/github/HumayDS/Digital-Data-Analytics-spring-2024-/blob/main/Lesson%204_.ipynb\" target=\"_parent\"><img src=\"https://colab.research.google.com/assets/colab-badge.svg\" alt=\"Open In Colab\"/></a>"
      ]
    },
    {
      "cell_type": "code",
      "execution_count": 74,
      "metadata": {
        "id": "1jUBCykW_QYy"
      },
      "outputs": [],
      "source": [
        "#Activate package\n",
        "import numpy as np\n",
        "import pandas as pd"
      ]
    },
    {
      "cell_type": "code",
      "source": [
        "##Getting dataset\n",
        "df = pd.read_csv('https://raw.githubusercontent.com/HumayDS/Digital-Data-Analytics-spring-2024-/main/tips_2.csv')"
      ],
      "metadata": {
        "id": "bNtd3h04_kqM"
      },
      "execution_count": 75,
      "outputs": []
    },
    {
      "cell_type": "code",
      "source": [
        "df.head()"
      ],
      "metadata": {
        "id": "y0VWgJwu_yvx"
      },
      "execution_count": null,
      "outputs": []
    },
    {
      "cell_type": "code",
      "source": [
        "df.shape"
      ],
      "metadata": {
        "id": "9lQCWAQ3_8eP"
      },
      "execution_count": null,
      "outputs": []
    },
    {
      "cell_type": "code",
      "source": [
        "df.info()"
      ],
      "metadata": {
        "id": "wPgDx2Ky_kwB"
      },
      "execution_count": null,
      "outputs": []
    },
    {
      "cell_type": "code",
      "source": [
        "df.isnull().sum()"
      ],
      "metadata": {
        "id": "6QE1Ac4f_k1t"
      },
      "execution_count": null,
      "outputs": []
    },
    {
      "cell_type": "code",
      "source": [
        "df.describe().T"
      ],
      "metadata": {
        "id": "m67xzstdCymJ"
      },
      "execution_count": null,
      "outputs": []
    },
    {
      "cell_type": "code",
      "source": [
        "df.corr()"
      ],
      "metadata": {
        "id": "Ijm5xI-V_k8b"
      },
      "execution_count": null,
      "outputs": []
    },
    {
      "cell_type": "code",
      "source": [
        "#Unique values\n",
        "df.nunique()"
      ],
      "metadata": {
        "id": "9MwH6NAAD-h6"
      },
      "execution_count": null,
      "outputs": []
    },
    {
      "cell_type": "code",
      "source": [
        "df['smoker'].value_counts()"
      ],
      "metadata": {
        "id": "sq6M_QKSD-nd"
      },
      "execution_count": null,
      "outputs": []
    },
    {
      "cell_type": "code",
      "source": [
        "  #working with types\n",
        "  df['gender'] = df['gender'].astype('category')\n",
        "  df['smoker'] = df['smoker'].astype('category')\n",
        "  df['day'] = df['day'].astype('category')\n",
        "  df['time'] = df['time'].astype('category')\n",
        "  df['size'] = df['size'].astype('int64')"
      ],
      "metadata": {
        "id": "r6nXXOveEtba"
      },
      "execution_count": 84,
      "outputs": []
    },
    {
      "cell_type": "code",
      "source": [
        "df.info()"
      ],
      "metadata": {
        "id": "63I2p8b9FDOO"
      },
      "execution_count": null,
      "outputs": []
    },
    {
      "cell_type": "code",
      "source": [
        "# Adding new column\n",
        "df[\"average_bill\"] = df[\"total_bill\"] / df[\"size\"]\n",
        "df.head()"
      ],
      "metadata": {
        "id": "vyNa9FoCEtgF"
      },
      "execution_count": null,
      "outputs": []
    },
    {
      "cell_type": "code",
      "source": [
        "#  drop average bill\n",
        "\n",
        "df.drop(columns=[\"average_bill\"], inplace=True)\n",
        "df.head()\n"
      ],
      "metadata": {
        "id": "rytp7CNsR6S9"
      },
      "execution_count": null,
      "outputs": []
    },
    {
      "cell_type": "code",
      "source": [
        "#  create column if size > 2 , write 'less', 'more'\n",
        "\n",
        "df['size_category'] = np.where(df['size'] > 2, 'more', 'less')\n"
      ],
      "metadata": {
        "id": "EYquaZXeP1Po"
      },
      "execution_count": 88,
      "outputs": []
    },
    {
      "cell_type": "code",
      "source": [
        "df.head()"
      ],
      "metadata": {
        "id": "wzrRNIp4Qy_Q"
      },
      "execution_count": null,
      "outputs": []
    },
    {
      "cell_type": "code",
      "source": [
        "df.drop('size_category' , axis = 1 ,inplace = True)"
      ],
      "metadata": {
        "id": "gN9iI9gAQTOu"
      },
      "execution_count": 90,
      "outputs": []
    },
    {
      "cell_type": "code",
      "source": [
        "#  create column, if size < 2 , write 'less' between 2 and 5 , write 'orta', else 'chox'\n",
        "\n",
        "df['size_category'] = np.select(\n",
        "    [df['size'] < 2, (df['size'] >= 2) & (df['size'] < 5), df['size'] >= 5],\n",
        "    ['less', 'orta', 'chox']\n",
        ")\n",
        "\n",
        "df.head()\n"
      ],
      "metadata": {
        "id": "G4wzXLkAQ6AH"
      },
      "execution_count": null,
      "outputs": []
    },
    {
      "cell_type": "code",
      "source": [
        "df.drop('size_category' , axis = 1 ,inplace = True)"
      ],
      "metadata": {
        "id": "TDiaa-TSQ6Qw"
      },
      "execution_count": 92,
      "outputs": []
    },
    {
      "cell_type": "code",
      "source": [
        "df.head()"
      ],
      "metadata": {
        "id": "1zRU03kFQaxQ"
      },
      "execution_count": null,
      "outputs": []
    },
    {
      "cell_type": "code",
      "source": [
        "\n",
        "df.sort_values(by='tip', ascending = False)"
      ],
      "metadata": {
        "id": "BiVGfiivHvTp"
      },
      "execution_count": null,
      "outputs": []
    },
    {
      "cell_type": "code",
      "source": [
        "\n",
        "# select 0 : 3\n",
        "df.iloc[0:3]"
      ],
      "metadata": {
        "id": "1_fMgkYRHvZb"
      },
      "execution_count": null,
      "outputs": []
    },
    {
      "cell_type": "code",
      "source": [
        "\n",
        "#select rows 0:3 , columns 0:2\n",
        "df.iloc[:3,:2]\n"
      ],
      "metadata": {
        "id": "aFOQKrdiHwNh"
      },
      "execution_count": null,
      "outputs": []
    },
    {
      "cell_type": "code",
      "source": [
        "#FIltering\n",
        "df.iloc[20:40 , 2]"
      ],
      "metadata": {
        "id": "vE-tMC51HwSJ"
      },
      "execution_count": null,
      "outputs": []
    },
    {
      "cell_type": "code",
      "source": [
        "#filtering\n",
        "df.iloc[20 , 2]"
      ],
      "metadata": {
        "id": "Nt1_2J3pHwXI"
      },
      "execution_count": null,
      "outputs": []
    },
    {
      "cell_type": "code",
      "source": [
        "# tip > 5\n",
        "df[df.tip > 5]"
      ],
      "metadata": {
        "id": "ec6-2mJrHwdW"
      },
      "execution_count": null,
      "outputs": []
    },
    {
      "cell_type": "code",
      "source": [
        "# prompt: filter tip > 5 and total_bill < 20\n",
        "## and --->>> &\n",
        "### or ----->> |\n",
        "df[(df['tip'] > 5) & (df['total_bill'] < 20)]\n"
      ],
      "metadata": {
        "id": "zegy6w2fIqBS"
      },
      "execution_count": null,
      "outputs": []
    },
    {
      "cell_type": "code",
      "source": [
        "#check nulls\n",
        "df.isnull().sum()"
      ],
      "metadata": {
        "id": "1-ooh8WaI8SJ"
      },
      "execution_count": null,
      "outputs": []
    },
    {
      "cell_type": "code",
      "source": [
        "# Filter where tip is null\n",
        "\n",
        "df[df['tip'].isnull()]\n"
      ],
      "metadata": {
        "id": "3PVagRKUJOkJ"
      },
      "execution_count": null,
      "outputs": []
    },
    {
      "cell_type": "code",
      "source": [
        "# delete nulls\n",
        "df_1 = df.dropna()"
      ],
      "metadata": {
        "id": "MjKpPEtgJWdR"
      },
      "execution_count": 103,
      "outputs": []
    },
    {
      "cell_type": "code",
      "source": [
        "df_1.shape\n",
        "df_1.isnull().sum()"
      ],
      "metadata": {
        "id": "9Ivtt4JyJ7hE"
      },
      "execution_count": null,
      "outputs": []
    },
    {
      "cell_type": "code",
      "source": [
        "#histogram tip\n",
        "\n",
        "df['tip'].plot.hist(bins=10)\n"
      ],
      "metadata": {
        "id": "pGFkuRj1N8Hp"
      },
      "execution_count": null,
      "outputs": []
    },
    {
      "cell_type": "code",
      "source": [
        "# skewness tip\n",
        "\n",
        "df['tip'].skew()\n"
      ],
      "metadata": {
        "id": "q4UnamLVOF-U"
      },
      "execution_count": null,
      "outputs": []
    },
    {
      "cell_type": "code",
      "source": [
        "#  histogram total bill\n",
        "\n",
        "df['total_bill'].plot.hist(bins=10)\n"
      ],
      "metadata": {
        "id": "kr40JQsbOPYR"
      },
      "execution_count": null,
      "outputs": []
    },
    {
      "cell_type": "code",
      "source": [
        "#  boxplot tip\n",
        "\n",
        "df['tip'].plot.box()\n"
      ],
      "metadata": {
        "id": "1JJ5qKxiO4HP"
      },
      "execution_count": null,
      "outputs": []
    },
    {
      "cell_type": "code",
      "source": [
        "# skewness total_bill\n",
        "\n",
        "df['total_bill'].skew()\n"
      ],
      "metadata": {
        "id": "lUTx4mfEOPdI"
      },
      "execution_count": null,
      "outputs": []
    },
    {
      "cell_type": "code",
      "source": [
        "#fill with 0\n",
        "df.fillna(0)"
      ],
      "metadata": {
        "id": "7uH4UoZnKDX8"
      },
      "execution_count": null,
      "outputs": []
    },
    {
      "cell_type": "code",
      "source": [
        "#  df fill na's with mean\n",
        "\n",
        "df.fillna(df.mean())\n"
      ],
      "metadata": {
        "id": "vZaGlezeKJSP"
      },
      "execution_count": null,
      "outputs": []
    },
    {
      "cell_type": "code",
      "source": [
        "# fill na's with median\n",
        "\n",
        "df  = df.fillna(df.median())\n"
      ],
      "metadata": {
        "id": "0Gv4-8jnJWh3"
      },
      "execution_count": null,
      "outputs": []
    },
    {
      "cell_type": "code",
      "source": [
        "df.describe().T"
      ],
      "metadata": {
        "id": "pAF4De0MJ1H_"
      },
      "execution_count": null,
      "outputs": []
    },
    {
      "cell_type": "code",
      "source": [
        "##Outlier bounds for tip\n",
        "IQR = df['tip'].quantile(0.75) - df['tip'].quantile(0.25)\n",
        "lower_limit = df['tip'].quantile(0.25) - 2 * IQR\n",
        "upper_limit = df['tip'].quantile(0.75) + 2 * IQR\n",
        "print(lower_limit)\n",
        "print(upper_limit)"
      ],
      "metadata": {
        "id": "DrOMmQYtJ1Ro"
      },
      "execution_count": null,
      "outputs": []
    },
    {
      "cell_type": "code",
      "source": [
        "df[(df['tip']  < lower_limit ) | (df['tip'] > upper_limit)]"
      ],
      "metadata": {
        "id": "4O8QlCmILFQ8"
      },
      "execution_count": null,
      "outputs": []
    },
    {
      "cell_type": "code",
      "source": [
        "q3 = df['tip'].quantile(0.75)"
      ],
      "metadata": {
        "id": "2238dUyBM6wU"
      },
      "execution_count": 116,
      "outputs": []
    },
    {
      "cell_type": "code",
      "source": [
        "df.loc[(df['tip'] < lower_limit) | (df['tip'] > upper_limit), 'tip'] = q3"
      ],
      "metadata": {
        "id": "SvAOIQHCM65r"
      },
      "execution_count": 117,
      "outputs": []
    },
    {
      "cell_type": "code",
      "source": [
        "##Outlier bounds for tip\n",
        "IQR = df['total_bill'].quantile(0.75) - df['total_bill'].quantile(0.25)\n",
        "lower_limit = df['total_bill'].quantile(0.25) - 1.5 * IQR\n",
        "upper_limit = df['total_bill'].quantile(0.75) + 1.5 * IQR\n",
        "print(lower_limit)\n",
        "print(upper_limit)"
      ],
      "metadata": {
        "id": "Ow2qyA2NLoIJ"
      },
      "execution_count": null,
      "outputs": []
    },
    {
      "cell_type": "code",
      "source": [
        "df[(df['total_bill']  < lower_limit ) | (df['total_bill'] > upper_limit)]"
      ],
      "metadata": {
        "id": "kAWMAwy_MFbe"
      },
      "execution_count": null,
      "outputs": []
    },
    {
      "cell_type": "code",
      "source": [
        "q3 = df['total_bill'].quantile(0.75)"
      ],
      "metadata": {
        "id": "S8WT8AjTNUPC"
      },
      "execution_count": 120,
      "outputs": []
    },
    {
      "cell_type": "code",
      "source": [
        "df.loc[(df['total_bill'] < lower_limit) | (df['total_bill'] > upper_limit), 'total_bill'] = q3"
      ],
      "metadata": {
        "id": "qb20I5DnNMyP"
      },
      "execution_count": 121,
      "outputs": []
    },
    {
      "cell_type": "code",
      "source": [
        "df.describe().T"
      ],
      "metadata": {
        "id": "lIsp4LEUNNAa"
      },
      "execution_count": null,
      "outputs": []
    },
    {
      "cell_type": "code",
      "source": [
        "df.corr()"
      ],
      "metadata": {
        "id": "fMM9kuChNjDE"
      },
      "execution_count": null,
      "outputs": []
    },
    {
      "cell_type": "code",
      "source": [
        "#Histogram tip again\n",
        "\n",
        "df['tip'].plot.hist(bins=10)\n"
      ],
      "metadata": {
        "id": "v8s6WEA7ObQd"
      },
      "execution_count": null,
      "outputs": []
    },
    {
      "cell_type": "code",
      "source": [
        "#  skewness tip again\n",
        "\n",
        "df['tip'].skew()\n"
      ],
      "metadata": {
        "id": "Pko6plRbOlkX"
      },
      "execution_count": null,
      "outputs": []
    },
    {
      "cell_type": "code",
      "source": [
        "#  boxplot tip\n",
        "\n",
        "df['tip'].plot.box()\n"
      ],
      "metadata": {
        "id": "tpf6dvXgOsIo"
      },
      "execution_count": null,
      "outputs": []
    },
    {
      "cell_type": "code",
      "source": [
        "df.info()"
      ],
      "metadata": {
        "id": "9cGf-pV-PvI5"
      },
      "execution_count": null,
      "outputs": []
    },
    {
      "cell_type": "markdown",
      "source": [
        "### Dummy Variable"
      ],
      "metadata": {
        "id": "WftRcx2OJZ6o"
      }
    },
    {
      "cell_type": "code",
      "source": [
        "##Dummy variable\n",
        "dmy = pd.get_dummies(df.select_dtypes('category') )\n",
        "dmy.head()\n",
        "cat_columns = df.select_dtypes('category')\n",
        "num_cols = df.drop(cat_columns , axis = 1)\n",
        "df_dummy = pd.concat([num_cols , dmy] , axis= 1)\n",
        "df_dummy.head()\n",
        ""
      ],
      "metadata": {
        "id": "axS1eWHxH5bQ"
      },
      "execution_count": null,
      "outputs": []
    },
    {
      "cell_type": "code",
      "source": [
        "corr = df_dummy.corr()\n",
        "corr"
      ],
      "metadata": {
        "id": "x0-Eo4hEMBjg"
      },
      "execution_count": null,
      "outputs": []
    },
    {
      "cell_type": "code",
      "source": [
        "##Dummy variable\n",
        "dmy = pd.get_dummies(df.select_dtypes('category') ,  drop_first = True)\n",
        "dmy.head()\n",
        "cat_columns = df.select_dtypes('category')\n",
        "num_cols = df.drop(cat_columns , axis = 1)\n",
        "df_dummy2 = pd.concat([num_cols , dmy] , axis= 1)\n",
        "df_dummy2.head()"
      ],
      "metadata": {
        "id": "_K7QQLNyL3Hr"
      },
      "execution_count": null,
      "outputs": []
    },
    {
      "cell_type": "code",
      "source": [
        "df_dummy2.corr()"
      ],
      "metadata": {
        "id": "2THfNUcCK9Gz"
      },
      "execution_count": null,
      "outputs": []
    },
    {
      "cell_type": "code",
      "source": [
        "#group by smoker tip mean\n",
        "\n",
        "df.groupby('smoker')['tip'].mean()\n"
      ],
      "metadata": {
        "id": "M8LChzuIJWCn"
      },
      "execution_count": null,
      "outputs": []
    },
    {
      "cell_type": "code",
      "source": [
        "# Group by gender male tip\n",
        "\n",
        "df.groupby('gender')['tip'].mean()\n"
      ],
      "metadata": {
        "id": "fvRYxDe0JWH0"
      },
      "execution_count": null,
      "outputs": []
    },
    {
      "cell_type": "code",
      "source": [
        "# group by day time summarise  tip mean\n",
        "\n",
        "df.groupby(['day', 'time'])['tip'].mean()\n"
      ],
      "metadata": {
        "id": "ktaMpvsQJWN8"
      },
      "execution_count": null,
      "outputs": []
    },
    {
      "cell_type": "code",
      "source": [
        "# prompt: group by gender smoker\n",
        "\n",
        "df.groupby(['gender', 'smoker'])['tip'].mean()\n"
      ],
      "metadata": {
        "id": "AqRIGRndJXZI"
      },
      "execution_count": null,
      "outputs": []
    },
    {
      "cell_type": "code",
      "source": [
        "df = df_dummy2\n",
        "df.head()"
      ],
      "metadata": {
        "id": "Ha08awNxJXfY"
      },
      "execution_count": null,
      "outputs": []
    },
    {
      "cell_type": "code",
      "source": [
        "# prompt: boxplot total bill and tip\n",
        "\n",
        "import matplotlib.pyplot as plt\n",
        "\n",
        "df.boxplot(column=['total_bill', 'tip'], grid=True)\n",
        "plt.show()\n"
      ],
      "metadata": {
        "id": "SO-lHDimORUF"
      },
      "execution_count": null,
      "outputs": []
    },
    {
      "cell_type": "code",
      "source": [
        "df.head()"
      ],
      "metadata": {
        "id": "qSNOoFp3SKs4"
      },
      "execution_count": null,
      "outputs": []
    },
    {
      "cell_type": "code",
      "source": [
        "# create copy of\n",
        "df2 = df.copy()\n"
      ],
      "metadata": {
        "id": "_5LeGYnxR3rV"
      },
      "execution_count": 139,
      "outputs": []
    },
    {
      "cell_type": "markdown",
      "source": [
        "Feature Scaling\n"
      ],
      "metadata": {
        "id": "WIC8rXpVOe5a"
      }
    },
    {
      "cell_type": "code",
      "source": [
        "#Standardization -- zscore\n",
        "from sklearn.preprocessing import StandardScaler\n",
        "scaler = StandardScaler()\n",
        "columns_to_scale = ['tip', 'total_bill']\n",
        "df2[columns_to_scale] = scaler.fit_transform(df2[columns_to_scale])"
      ],
      "metadata": {
        "id": "iFfIFGcjPX32"
      },
      "execution_count": 140,
      "outputs": []
    },
    {
      "cell_type": "code",
      "source": [
        "df2.head()"
      ],
      "metadata": {
        "id": "RmqtHs74QFoH"
      },
      "execution_count": null,
      "outputs": []
    },
    {
      "cell_type": "code",
      "source": [
        "# prompt: mean df2 total_bill\n",
        "\n",
        "print(df2['total_bill'].mean())\n",
        "print(df2['total_bill'].std())\n"
      ],
      "metadata": {
        "id": "WmJIPlWmStiO"
      },
      "execution_count": null,
      "outputs": []
    },
    {
      "cell_type": "code",
      "source": [
        "# prompt: boxplot total bill and tip\n",
        "\n",
        "import matplotlib.pyplot as plt\n",
        "\n",
        "df2.boxplot(column=['total_bill', 'tip'], grid=True)\n",
        "plt.show()\n"
      ],
      "metadata": {
        "id": "uZdin7lfQI93"
      },
      "execution_count": null,
      "outputs": []
    },
    {
      "cell_type": "code",
      "source": [
        "df.head()"
      ],
      "metadata": {
        "id": "30EKoR2jQpVl"
      },
      "execution_count": null,
      "outputs": []
    },
    {
      "cell_type": "code",
      "source": [
        "##Getting logarithm\n",
        "df['tip'] = np.log1p(df['tip'])\n",
        "df['total_bill'] = np.log1p(df['total_bill'])\n"
      ],
      "metadata": {
        "id": "83JJWvgfQfHM"
      },
      "execution_count": 144,
      "outputs": []
    },
    {
      "cell_type": "code",
      "source": [
        "df.head()"
      ],
      "metadata": {
        "id": "L52MX9mAQl8B"
      },
      "execution_count": null,
      "outputs": []
    },
    {
      "cell_type": "code",
      "source": [
        "# prompt: boxplot total bill and tip\n",
        "\n",
        "import matplotlib.pyplot as plt\n",
        "\n",
        "df.boxplot(column=['total_bill', 'tip'], grid=True)\n",
        "plt.show()"
      ],
      "metadata": {
        "id": "SKIFhQHuSbAE"
      },
      "execution_count": null,
      "outputs": []
    },
    {
      "cell_type": "code",
      "source": [
        "df.head()"
      ],
      "metadata": {
        "id": "uhKlA6hBTAYD"
      },
      "execution_count": null,
      "outputs": []
    },
    {
      "cell_type": "code",
      "source": [
        "df.describe().T"
      ],
      "metadata": {
        "id": "faGyUoJBTDDy"
      },
      "execution_count": null,
      "outputs": []
    }
  ]
}