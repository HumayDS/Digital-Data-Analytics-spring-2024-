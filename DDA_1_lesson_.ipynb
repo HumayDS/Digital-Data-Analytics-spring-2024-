{
  "nbformat": 4,
  "nbformat_minor": 0,
  "metadata": {
    "colab": {
      "provenance": [],
      "authorship_tag": "ABX9TyMsGqVsuXmlS/o8s6nikkue",
      "include_colab_link": true
    },
    "kernelspec": {
      "name": "python3",
      "display_name": "Python 3"
    },
    "language_info": {
      "name": "python"
    }
  },
  "cells": [
    {
      "cell_type": "markdown",
      "metadata": {
        "id": "view-in-github",
        "colab_type": "text"
      },
      "source": [
        "<a href=\"https://colab.research.google.com/github/HumayDS/Digital-Data-Analytics-spring-2024-/blob/main/DDA_1_lesson_.ipynb\" target=\"_parent\"><img src=\"https://colab.research.google.com/assets/colab-badge.svg\" alt=\"Open In Colab\"/></a>"
      ]
    },
    {
      "cell_type": "code",
      "execution_count": 1,
      "metadata": {
        "id": "49dymm7ZKolf"
      },
      "outputs": [],
      "source": [
        "\n",
        "#Activate package\n",
        "import numpy as np\n",
        "import pandas as pd"
      ]
    },
    {
      "cell_type": "code",
      "source": [
        "\n",
        "#Datani cek ve adlandir\n",
        "df = pd.read_csv(\"https://raw.githubusercontent.com/HumayDS/Digital-Data-Analytics-spring-2024-/main/tips.csv\")"
      ],
      "metadata": {
        "id": "FwmSyfZ4LiEA"
      },
      "execution_count": 2,
      "outputs": []
    },
    {
      "cell_type": "code",
      "source": [
        "#Monitor head of dataset\n",
        "df.head()"
      ],
      "metadata": {
        "id": "sXOGid6RNFmV"
      },
      "execution_count": null,
      "outputs": []
    },
    {
      "cell_type": "code",
      "source": [
        "#monitor tail of dataset\n",
        "df.tail()"
      ],
      "metadata": {
        "id": "MccDhflcNG7J"
      },
      "execution_count": null,
      "outputs": []
    },
    {
      "cell_type": "code",
      "source": [
        "#get more info about types\n",
        "df.info()"
      ],
      "metadata": {
        "id": "cnM3GjSlNJHe"
      },
      "execution_count": null,
      "outputs": []
    },
    {
      "cell_type": "code",
      "source": [
        "#describe datset\n",
        "df.describe().T"
      ],
      "metadata": {
        "id": "x60TiZPfNKaZ"
      },
      "execution_count": null,
      "outputs": []
    },
    {
      "cell_type": "code",
      "source": [
        "#Calculate mean seperately\n",
        "df['tip'].mean()\n"
      ],
      "metadata": {
        "id": "S3h2QYOhNUcy"
      },
      "execution_count": null,
      "outputs": []
    },
    {
      "cell_type": "code",
      "source": [
        "#calculate std seperately\n",
        "df['tip'].std()\n"
      ],
      "metadata": {
        "id": "3Zke3uHbNglc"
      },
      "execution_count": null,
      "outputs": []
    },
    {
      "cell_type": "code",
      "source": [
        "#Calculate mode seperately\n",
        "df['tip'].mode()"
      ],
      "metadata": {
        "id": "BlkSw3ayOLDf"
      },
      "execution_count": null,
      "outputs": []
    },
    {
      "cell_type": "code",
      "source": [
        "#Calculate coefficient of variation\n",
        "\n",
        "coefficient_of_variation_tip = df['tip'].std() / df['tip'].mean() * 100\n",
        "print(f\"Coefficient of variation of tip: {coefficient_of_variation_tip:.2f}%\")\n"
      ],
      "metadata": {
        "id": "sieYDh6oNgsi"
      },
      "execution_count": null,
      "outputs": []
    },
    {
      "cell_type": "code",
      "source": [
        "#Calculate correlation\n",
        "df.corr()"
      ],
      "metadata": {
        "id": "cFC8IWiQN9Wa"
      },
      "execution_count": null,
      "outputs": []
    },
    {
      "cell_type": "code",
      "source": [
        "# Calculate range\n",
        "\n",
        "tip_range = df['tip'].max() - df['tip'].min()\n",
        "print(f\"Range of tip: {tip_range}\")\n"
      ],
      "metadata": {
        "id": "RVE3VUOTOAad"
      },
      "execution_count": null,
      "outputs": []
    },
    {
      "cell_type": "code",
      "source": [
        "# Calculate quartiles\n",
        "\n",
        "Q1 = df['tip'].quantile(0.25)\n",
        "Q2 = df['tip'].quantile(0.5)\n",
        "Q3 = df['tip'].quantile(0.75)\n",
        "\n",
        "print(f\"Q1: {Q1}\")\n",
        "print(f\"Q2: {Q2}\")\n",
        "print(f\"Q3: {Q3}\")\n"
      ],
      "metadata": {
        "id": "_Gyck80iOZcu"
      },
      "execution_count": null,
      "outputs": []
    },
    {
      "cell_type": "code",
      "source": [
        "##Interquantile range\n",
        "IQR  = Q3 - Q1\n",
        "IQR"
      ],
      "metadata": {
        "id": "sqdo9rNHOept"
      },
      "execution_count": null,
      "outputs": []
    },
    {
      "cell_type": "code",
      "source": [
        "outlier_threshold_upper = Q3 + 1.5 * IQR\n",
        "outlier_threshold_lower = Q1 - 1.5 * IQR"
      ],
      "metadata": {
        "id": "D4TzVvh4Osul"
      },
      "execution_count": 15,
      "outputs": []
    },
    {
      "cell_type": "code",
      "source": [
        "outlier_threshold_upper"
      ],
      "metadata": {
        "id": "O3FN7K9ZO-a6"
      },
      "execution_count": null,
      "outputs": []
    },
    {
      "cell_type": "code",
      "source": [
        "outlier_threshold_lower"
      ],
      "metadata": {
        "id": "RDWFwEwJO_Vw"
      },
      "execution_count": null,
      "outputs": []
    },
    {
      "cell_type": "code",
      "source": [
        "# Removing outliers\n",
        "\n",
        "outlier_indices = df.loc[(df['tip'] > outlier_threshold_upper) | (df['tip'] < outlier_threshold_lower)].index\n",
        "\n",
        "\n",
        "\n",
        "df_without_outliers = df.drop(outlier_indices)\n",
        "\n",
        "#Print the new dataframe without outliers\n",
        "\n",
        "df_without_outliers.head()\n"
      ],
      "metadata": {
        "id": "fh1yZSs0P9-q"
      },
      "execution_count": null,
      "outputs": []
    },
    {
      "cell_type": "code",
      "source": [
        "df_without_outliers.describe().T"
      ],
      "metadata": {
        "id": "0MruQQgeQQLH"
      },
      "execution_count": null,
      "outputs": []
    },
    {
      "cell_type": "code",
      "source": [
        "#monitor the variables\n",
        "%whos"
      ],
      "metadata": {
        "id": "jYQAqGSk8QM5"
      },
      "execution_count": null,
      "outputs": []
    },
    {
      "cell_type": "code",
      "source": [
        "#select 2 columns\n",
        "df[['tip', 'total_bill']]"
      ],
      "metadata": {
        "id": "j89mlvesOSNv"
      },
      "execution_count": null,
      "outputs": []
    },
    {
      "cell_type": "code",
      "source": [
        "#  select tip and total_bill rows from 20 to 40\n",
        "\n",
        "df[['tip', 'total_bill']].iloc[20:40]\n"
      ],
      "metadata": {
        "id": "NwKQ8mgUOZEc"
      },
      "execution_count": null,
      "outputs": []
    },
    {
      "cell_type": "code",
      "source": [
        "df.iloc[20:40, 1:4]"
      ],
      "metadata": {
        "id": "QwJv_24mOu4j"
      },
      "execution_count": null,
      "outputs": []
    },
    {
      "cell_type": "code",
      "source": [
        "#  sort descending tip\n",
        "\n",
        "df.sort_values(by='tip', ascending=False)\n"
      ],
      "metadata": {
        "id": "uo5-CxnKOhio"
      },
      "execution_count": null,
      "outputs": []
    }
  ]
}