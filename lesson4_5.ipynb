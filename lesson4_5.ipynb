{
  "nbformat": 4,
  "nbformat_minor": 0,
  "metadata": {
    "colab": {
      "provenance": [],
      "authorship_tag": "ABX9TyPG6gtfo6Skcnv0TRIEuikV",
      "include_colab_link": true
    },
    "kernelspec": {
      "name": "python3",
      "display_name": "Python 3"
    },
    "language_info": {
      "name": "python"
    }
  },
  "cells": [
    {
      "cell_type": "markdown",
      "metadata": {
        "id": "view-in-github",
        "colab_type": "text"
      },
      "source": [
        "<a href=\"https://colab.research.google.com/github/HumayDS/Digital-Data-Analytics-spring-2024-/blob/main/lesson4_5.ipynb\" target=\"_parent\"><img src=\"https://colab.research.google.com/assets/colab-badge.svg\" alt=\"Open In Colab\"/></a>"
      ]
    },
    {
      "cell_type": "code",
      "execution_count": 67,
      "metadata": {
        "id": "1jUBCykW_QYy"
      },
      "outputs": [],
      "source": [
        "#Activate package\n",
        "import numpy as np\n",
        "import pandas as pd"
      ]
    },
    {
      "cell_type": "code",
      "source": [
        "##Getting dataset\n",
        "df = pd.read_csv('https://raw.githubusercontent.com/HumayDS/Digital-Data-Analytics-spring-2024-/main/tips_2.csv')"
      ],
      "metadata": {
        "id": "bNtd3h04_kqM"
      },
      "execution_count": 68,
      "outputs": []
    },
    {
      "cell_type": "code",
      "source": [
        "df.head()"
      ],
      "metadata": {
        "id": "y0VWgJwu_yvx",
        "outputId": "8c40003c-10d6-44c8-c62a-8587b3205273",
        "colab": {
          "base_uri": "https://localhost:8080/",
          "height": 206
        }
      },
      "execution_count": 69,
      "outputs": [
        {
          "output_type": "execute_result",
          "data": {
            "text/plain": [
              "   total_bill   tip  gender smoker  day    time  size\n",
              "0       16.99  1.01  Female     No  Sun  Dinner     2\n",
              "1       10.34  1.66    Male     No  Sun  Dinner     3\n",
              "2       21.01  3.50    Male     No  Sun  Dinner     3\n",
              "3       23.68  3.31    Male     No  Sun  Dinner     2\n",
              "4       24.59   NaN  Female     No  Sun  Dinner     4"
            ],
            "text/html": [
              "\n",
              "  <div id=\"df-723ff2e7-dd05-49c3-8a85-e92a81d750cb\" class=\"colab-df-container\">\n",
              "    <div>\n",
              "<style scoped>\n",
              "    .dataframe tbody tr th:only-of-type {\n",
              "        vertical-align: middle;\n",
              "    }\n",
              "\n",
              "    .dataframe tbody tr th {\n",
              "        vertical-align: top;\n",
              "    }\n",
              "\n",
              "    .dataframe thead th {\n",
              "        text-align: right;\n",
              "    }\n",
              "</style>\n",
              "<table border=\"1\" class=\"dataframe\">\n",
              "  <thead>\n",
              "    <tr style=\"text-align: right;\">\n",
              "      <th></th>\n",
              "      <th>total_bill</th>\n",
              "      <th>tip</th>\n",
              "      <th>gender</th>\n",
              "      <th>smoker</th>\n",
              "      <th>day</th>\n",
              "      <th>time</th>\n",
              "      <th>size</th>\n",
              "    </tr>\n",
              "  </thead>\n",
              "  <tbody>\n",
              "    <tr>\n",
              "      <th>0</th>\n",
              "      <td>16.99</td>\n",
              "      <td>1.01</td>\n",
              "      <td>Female</td>\n",
              "      <td>No</td>\n",
              "      <td>Sun</td>\n",
              "      <td>Dinner</td>\n",
              "      <td>2</td>\n",
              "    </tr>\n",
              "    <tr>\n",
              "      <th>1</th>\n",
              "      <td>10.34</td>\n",
              "      <td>1.66</td>\n",
              "      <td>Male</td>\n",
              "      <td>No</td>\n",
              "      <td>Sun</td>\n",
              "      <td>Dinner</td>\n",
              "      <td>3</td>\n",
              "    </tr>\n",
              "    <tr>\n",
              "      <th>2</th>\n",
              "      <td>21.01</td>\n",
              "      <td>3.50</td>\n",
              "      <td>Male</td>\n",
              "      <td>No</td>\n",
              "      <td>Sun</td>\n",
              "      <td>Dinner</td>\n",
              "      <td>3</td>\n",
              "    </tr>\n",
              "    <tr>\n",
              "      <th>3</th>\n",
              "      <td>23.68</td>\n",
              "      <td>3.31</td>\n",
              "      <td>Male</td>\n",
              "      <td>No</td>\n",
              "      <td>Sun</td>\n",
              "      <td>Dinner</td>\n",
              "      <td>2</td>\n",
              "    </tr>\n",
              "    <tr>\n",
              "      <th>4</th>\n",
              "      <td>24.59</td>\n",
              "      <td>NaN</td>\n",
              "      <td>Female</td>\n",
              "      <td>No</td>\n",
              "      <td>Sun</td>\n",
              "      <td>Dinner</td>\n",
              "      <td>4</td>\n",
              "    </tr>\n",
              "  </tbody>\n",
              "</table>\n",
              "</div>\n",
              "    <div class=\"colab-df-buttons\">\n",
              "\n",
              "  <div class=\"colab-df-container\">\n",
              "    <button class=\"colab-df-convert\" onclick=\"convertToInteractive('df-723ff2e7-dd05-49c3-8a85-e92a81d750cb')\"\n",
              "            title=\"Convert this dataframe to an interactive table.\"\n",
              "            style=\"display:none;\">\n",
              "\n",
              "  <svg xmlns=\"http://www.w3.org/2000/svg\" height=\"24px\" viewBox=\"0 -960 960 960\">\n",
              "    <path d=\"M120-120v-720h720v720H120Zm60-500h600v-160H180v160Zm220 220h160v-160H400v160Zm0 220h160v-160H400v160ZM180-400h160v-160H180v160Zm440 0h160v-160H620v160ZM180-180h160v-160H180v160Zm440 0h160v-160H620v160Z\"/>\n",
              "  </svg>\n",
              "    </button>\n",
              "\n",
              "  <style>\n",
              "    .colab-df-container {\n",
              "      display:flex;\n",
              "      gap: 12px;\n",
              "    }\n",
              "\n",
              "    .colab-df-convert {\n",
              "      background-color: #E8F0FE;\n",
              "      border: none;\n",
              "      border-radius: 50%;\n",
              "      cursor: pointer;\n",
              "      display: none;\n",
              "      fill: #1967D2;\n",
              "      height: 32px;\n",
              "      padding: 0 0 0 0;\n",
              "      width: 32px;\n",
              "    }\n",
              "\n",
              "    .colab-df-convert:hover {\n",
              "      background-color: #E2EBFA;\n",
              "      box-shadow: 0px 1px 2px rgba(60, 64, 67, 0.3), 0px 1px 3px 1px rgba(60, 64, 67, 0.15);\n",
              "      fill: #174EA6;\n",
              "    }\n",
              "\n",
              "    .colab-df-buttons div {\n",
              "      margin-bottom: 4px;\n",
              "    }\n",
              "\n",
              "    [theme=dark] .colab-df-convert {\n",
              "      background-color: #3B4455;\n",
              "      fill: #D2E3FC;\n",
              "    }\n",
              "\n",
              "    [theme=dark] .colab-df-convert:hover {\n",
              "      background-color: #434B5C;\n",
              "      box-shadow: 0px 1px 3px 1px rgba(0, 0, 0, 0.15);\n",
              "      filter: drop-shadow(0px 1px 2px rgba(0, 0, 0, 0.3));\n",
              "      fill: #FFFFFF;\n",
              "    }\n",
              "  </style>\n",
              "\n",
              "    <script>\n",
              "      const buttonEl =\n",
              "        document.querySelector('#df-723ff2e7-dd05-49c3-8a85-e92a81d750cb button.colab-df-convert');\n",
              "      buttonEl.style.display =\n",
              "        google.colab.kernel.accessAllowed ? 'block' : 'none';\n",
              "\n",
              "      async function convertToInteractive(key) {\n",
              "        const element = document.querySelector('#df-723ff2e7-dd05-49c3-8a85-e92a81d750cb');\n",
              "        const dataTable =\n",
              "          await google.colab.kernel.invokeFunction('convertToInteractive',\n",
              "                                                    [key], {});\n",
              "        if (!dataTable) return;\n",
              "\n",
              "        const docLinkHtml = 'Like what you see? Visit the ' +\n",
              "          '<a target=\"_blank\" href=https://colab.research.google.com/notebooks/data_table.ipynb>data table notebook</a>'\n",
              "          + ' to learn more about interactive tables.';\n",
              "        element.innerHTML = '';\n",
              "        dataTable['output_type'] = 'display_data';\n",
              "        await google.colab.output.renderOutput(dataTable, element);\n",
              "        const docLink = document.createElement('div');\n",
              "        docLink.innerHTML = docLinkHtml;\n",
              "        element.appendChild(docLink);\n",
              "      }\n",
              "    </script>\n",
              "  </div>\n",
              "\n",
              "\n",
              "<div id=\"df-1c4923d4-4674-4533-9c53-53cf579e790e\">\n",
              "  <button class=\"colab-df-quickchart\" onclick=\"quickchart('df-1c4923d4-4674-4533-9c53-53cf579e790e')\"\n",
              "            title=\"Suggest charts\"\n",
              "            style=\"display:none;\">\n",
              "\n",
              "<svg xmlns=\"http://www.w3.org/2000/svg\" height=\"24px\"viewBox=\"0 0 24 24\"\n",
              "     width=\"24px\">\n",
              "    <g>\n",
              "        <path d=\"M19 3H5c-1.1 0-2 .9-2 2v14c0 1.1.9 2 2 2h14c1.1 0 2-.9 2-2V5c0-1.1-.9-2-2-2zM9 17H7v-7h2v7zm4 0h-2V7h2v10zm4 0h-2v-4h2v4z\"/>\n",
              "    </g>\n",
              "</svg>\n",
              "  </button>\n",
              "\n",
              "<style>\n",
              "  .colab-df-quickchart {\n",
              "      --bg-color: #E8F0FE;\n",
              "      --fill-color: #1967D2;\n",
              "      --hover-bg-color: #E2EBFA;\n",
              "      --hover-fill-color: #174EA6;\n",
              "      --disabled-fill-color: #AAA;\n",
              "      --disabled-bg-color: #DDD;\n",
              "  }\n",
              "\n",
              "  [theme=dark] .colab-df-quickchart {\n",
              "      --bg-color: #3B4455;\n",
              "      --fill-color: #D2E3FC;\n",
              "      --hover-bg-color: #434B5C;\n",
              "      --hover-fill-color: #FFFFFF;\n",
              "      --disabled-bg-color: #3B4455;\n",
              "      --disabled-fill-color: #666;\n",
              "  }\n",
              "\n",
              "  .colab-df-quickchart {\n",
              "    background-color: var(--bg-color);\n",
              "    border: none;\n",
              "    border-radius: 50%;\n",
              "    cursor: pointer;\n",
              "    display: none;\n",
              "    fill: var(--fill-color);\n",
              "    height: 32px;\n",
              "    padding: 0;\n",
              "    width: 32px;\n",
              "  }\n",
              "\n",
              "  .colab-df-quickchart:hover {\n",
              "    background-color: var(--hover-bg-color);\n",
              "    box-shadow: 0 1px 2px rgba(60, 64, 67, 0.3), 0 1px 3px 1px rgba(60, 64, 67, 0.15);\n",
              "    fill: var(--button-hover-fill-color);\n",
              "  }\n",
              "\n",
              "  .colab-df-quickchart-complete:disabled,\n",
              "  .colab-df-quickchart-complete:disabled:hover {\n",
              "    background-color: var(--disabled-bg-color);\n",
              "    fill: var(--disabled-fill-color);\n",
              "    box-shadow: none;\n",
              "  }\n",
              "\n",
              "  .colab-df-spinner {\n",
              "    border: 2px solid var(--fill-color);\n",
              "    border-color: transparent;\n",
              "    border-bottom-color: var(--fill-color);\n",
              "    animation:\n",
              "      spin 1s steps(1) infinite;\n",
              "  }\n",
              "\n",
              "  @keyframes spin {\n",
              "    0% {\n",
              "      border-color: transparent;\n",
              "      border-bottom-color: var(--fill-color);\n",
              "      border-left-color: var(--fill-color);\n",
              "    }\n",
              "    20% {\n",
              "      border-color: transparent;\n",
              "      border-left-color: var(--fill-color);\n",
              "      border-top-color: var(--fill-color);\n",
              "    }\n",
              "    30% {\n",
              "      border-color: transparent;\n",
              "      border-left-color: var(--fill-color);\n",
              "      border-top-color: var(--fill-color);\n",
              "      border-right-color: var(--fill-color);\n",
              "    }\n",
              "    40% {\n",
              "      border-color: transparent;\n",
              "      border-right-color: var(--fill-color);\n",
              "      border-top-color: var(--fill-color);\n",
              "    }\n",
              "    60% {\n",
              "      border-color: transparent;\n",
              "      border-right-color: var(--fill-color);\n",
              "    }\n",
              "    80% {\n",
              "      border-color: transparent;\n",
              "      border-right-color: var(--fill-color);\n",
              "      border-bottom-color: var(--fill-color);\n",
              "    }\n",
              "    90% {\n",
              "      border-color: transparent;\n",
              "      border-bottom-color: var(--fill-color);\n",
              "    }\n",
              "  }\n",
              "</style>\n",
              "\n",
              "  <script>\n",
              "    async function quickchart(key) {\n",
              "      const quickchartButtonEl =\n",
              "        document.querySelector('#' + key + ' button');\n",
              "      quickchartButtonEl.disabled = true;  // To prevent multiple clicks.\n",
              "      quickchartButtonEl.classList.add('colab-df-spinner');\n",
              "      try {\n",
              "        const charts = await google.colab.kernel.invokeFunction(\n",
              "            'suggestCharts', [key], {});\n",
              "      } catch (error) {\n",
              "        console.error('Error during call to suggestCharts:', error);\n",
              "      }\n",
              "      quickchartButtonEl.classList.remove('colab-df-spinner');\n",
              "      quickchartButtonEl.classList.add('colab-df-quickchart-complete');\n",
              "    }\n",
              "    (() => {\n",
              "      let quickchartButtonEl =\n",
              "        document.querySelector('#df-1c4923d4-4674-4533-9c53-53cf579e790e button');\n",
              "      quickchartButtonEl.style.display =\n",
              "        google.colab.kernel.accessAllowed ? 'block' : 'none';\n",
              "    })();\n",
              "  </script>\n",
              "</div>\n",
              "\n",
              "    </div>\n",
              "  </div>\n"
            ],
            "application/vnd.google.colaboratory.intrinsic+json": {
              "type": "dataframe",
              "variable_name": "df",
              "summary": "{\n  \"name\": \"df\",\n  \"rows\": 244,\n  \"fields\": [\n    {\n      \"column\": \"total_bill\",\n      \"properties\": {\n        \"dtype\": \"number\",\n        \"std\": 8.902411954856856,\n        \"min\": 3.07,\n        \"max\": 50.81,\n        \"num_unique_values\": 229,\n        \"samples\": [\n          22.12,\n          20.23,\n          14.78\n        ],\n        \"semantic_type\": \"\",\n        \"description\": \"\"\n      }\n    },\n    {\n      \"column\": \"tip\",\n      \"properties\": {\n        \"dtype\": \"number\",\n        \"std\": 4.665933435777804,\n        \"min\": 1.0,\n        \"max\": 50.0,\n        \"num_unique_values\": 122,\n        \"samples\": [\n          4.08,\n          6.73,\n          1.98\n        ],\n        \"semantic_type\": \"\",\n        \"description\": \"\"\n      }\n    },\n    {\n      \"column\": \"gender\",\n      \"properties\": {\n        \"dtype\": \"category\",\n        \"num_unique_values\": 2,\n        \"samples\": [\n          \"Male\",\n          \"Female\"\n        ],\n        \"semantic_type\": \"\",\n        \"description\": \"\"\n      }\n    },\n    {\n      \"column\": \"smoker\",\n      \"properties\": {\n        \"dtype\": \"category\",\n        \"num_unique_values\": 2,\n        \"samples\": [\n          \"Yes\",\n          \"No\"\n        ],\n        \"semantic_type\": \"\",\n        \"description\": \"\"\n      }\n    },\n    {\n      \"column\": \"day\",\n      \"properties\": {\n        \"dtype\": \"category\",\n        \"num_unique_values\": 4,\n        \"samples\": [\n          \"Sat\",\n          \"Fri\"\n        ],\n        \"semantic_type\": \"\",\n        \"description\": \"\"\n      }\n    },\n    {\n      \"column\": \"time\",\n      \"properties\": {\n        \"dtype\": \"category\",\n        \"num_unique_values\": 2,\n        \"samples\": [\n          \"Lunch\",\n          \"Dinner\"\n        ],\n        \"semantic_type\": \"\",\n        \"description\": \"\"\n      }\n    },\n    {\n      \"column\": \"size\",\n      \"properties\": {\n        \"dtype\": \"number\",\n        \"std\": 0,\n        \"min\": 1,\n        \"max\": 6,\n        \"num_unique_values\": 6,\n        \"samples\": [\n          2,\n          3\n        ],\n        \"semantic_type\": \"\",\n        \"description\": \"\"\n      }\n    }\n  ]\n}"
            }
          },
          "metadata": {},
          "execution_count": 69
        }
      ]
    },
    {
      "cell_type": "code",
      "source": [
        "df.shape"
      ],
      "metadata": {
        "id": "9lQCWAQ3_8eP",
        "outputId": "3c3157c1-6a49-41c4-eb61-c1765b4e6347",
        "colab": {
          "base_uri": "https://localhost:8080/"
        }
      },
      "execution_count": 70,
      "outputs": [
        {
          "output_type": "execute_result",
          "data": {
            "text/plain": [
              "(244, 7)"
            ]
          },
          "metadata": {},
          "execution_count": 70
        }
      ]
    },
    {
      "cell_type": "code",
      "source": [
        "df.info()"
      ],
      "metadata": {
        "id": "wPgDx2Ky_kwB"
      },
      "execution_count": null,
      "outputs": []
    },
    {
      "cell_type": "code",
      "source": [
        "df.isnull().sum()"
      ],
      "metadata": {
        "id": "6QE1Ac4f_k1t"
      },
      "execution_count": null,
      "outputs": []
    },
    {
      "cell_type": "code",
      "source": [
        "df.describe().T"
      ],
      "metadata": {
        "id": "m67xzstdCymJ"
      },
      "execution_count": null,
      "outputs": []
    },
    {
      "cell_type": "code",
      "source": [
        "df.corr()"
      ],
      "metadata": {
        "id": "Ijm5xI-V_k8b"
      },
      "execution_count": null,
      "outputs": []
    },
    {
      "cell_type": "code",
      "source": [
        "#Unique values\n",
        "df.nunique()"
      ],
      "metadata": {
        "id": "9MwH6NAAD-h6"
      },
      "execution_count": null,
      "outputs": []
    },
    {
      "cell_type": "code",
      "source": [
        "df['smoker'].value_counts()"
      ],
      "metadata": {
        "id": "sq6M_QKSD-nd"
      },
      "execution_count": null,
      "outputs": []
    },
    {
      "cell_type": "code",
      "source": [
        "  #working with types\n",
        "  df['gender'] = df['gender'].astype('category')\n",
        "  df['smoker'] = df['smoker'].astype('category')\n",
        "  df['day'] = df['day'].astype('category')\n",
        "  df['time'] = df['time'].astype('category')\n",
        "  df['size'] = df['size'].astype('int64')"
      ],
      "metadata": {
        "id": "r6nXXOveEtba"
      },
      "execution_count": 77,
      "outputs": []
    },
    {
      "cell_type": "code",
      "source": [
        "df.info()"
      ],
      "metadata": {
        "id": "63I2p8b9FDOO"
      },
      "execution_count": null,
      "outputs": []
    },
    {
      "cell_type": "code",
      "source": [
        "# Adding new column\n",
        "df[\"average_bill\"] = df[\"total_bill\"] / df[\"size\"]\n",
        "df.head()"
      ],
      "metadata": {
        "id": "vyNa9FoCEtgF"
      },
      "execution_count": null,
      "outputs": []
    },
    {
      "cell_type": "code",
      "source": [
        "#  drop average bill\n",
        "\n",
        "df.drop(columns=[\"average_bill\"], inplace=True)\n",
        "df.head()\n"
      ],
      "metadata": {
        "id": "rytp7CNsR6S9"
      },
      "execution_count": null,
      "outputs": []
    },
    {
      "cell_type": "code",
      "source": [
        "#  create column if size > 2 , write 'less', 'more'\n",
        "\n",
        "df['size_category'] = np.where(df['size'] > 2, 'more', 'less')\n"
      ],
      "metadata": {
        "id": "EYquaZXeP1Po"
      },
      "execution_count": 81,
      "outputs": []
    },
    {
      "cell_type": "code",
      "source": [
        "df.head()"
      ],
      "metadata": {
        "id": "wzrRNIp4Qy_Q"
      },
      "execution_count": null,
      "outputs": []
    },
    {
      "cell_type": "code",
      "source": [
        "df.drop('size_category' , axis = 1 ,inplace = True)"
      ],
      "metadata": {
        "id": "gN9iI9gAQTOu"
      },
      "execution_count": 83,
      "outputs": []
    },
    {
      "cell_type": "code",
      "source": [
        "#  create column, if size < 2 , write 'less' between 2 and 5 , write 'orta', else 'chox'\n",
        "\n",
        "df['size_category'] = np.select(\n",
        "    [df['size'] < 2, (df['size'] >= 2) & (df['size'] < 5), df['size'] >= 5],\n",
        "    ['less', 'orta', 'chox']\n",
        ")\n",
        "\n",
        "df.head()\n"
      ],
      "metadata": {
        "id": "G4wzXLkAQ6AH"
      },
      "execution_count": null,
      "outputs": []
    },
    {
      "cell_type": "code",
      "source": [
        "df.drop('size_category' , axis = 1 ,inplace = True)"
      ],
      "metadata": {
        "id": "TDiaa-TSQ6Qw"
      },
      "execution_count": 85,
      "outputs": []
    },
    {
      "cell_type": "code",
      "source": [
        "df.head()"
      ],
      "metadata": {
        "id": "1zRU03kFQaxQ"
      },
      "execution_count": null,
      "outputs": []
    },
    {
      "cell_type": "code",
      "source": [
        "\n",
        "df.sort_values(by='tip', ascending = False)"
      ],
      "metadata": {
        "id": "BiVGfiivHvTp"
      },
      "execution_count": null,
      "outputs": []
    },
    {
      "cell_type": "code",
      "source": [
        "\n",
        "# select 0 : 3\n",
        "df.iloc[0:3]"
      ],
      "metadata": {
        "id": "1_fMgkYRHvZb"
      },
      "execution_count": null,
      "outputs": []
    },
    {
      "cell_type": "code",
      "source": [
        "\n",
        "#select rows 0:3 , columns 0:2\n",
        "df.iloc[:3,:2]\n"
      ],
      "metadata": {
        "id": "aFOQKrdiHwNh"
      },
      "execution_count": null,
      "outputs": []
    },
    {
      "cell_type": "code",
      "source": [
        "#FIltering\n",
        "df.iloc[20:40 , 2]"
      ],
      "metadata": {
        "id": "vE-tMC51HwSJ"
      },
      "execution_count": null,
      "outputs": []
    },
    {
      "cell_type": "code",
      "source": [
        "#filtering\n",
        "df.iloc[20 , 2]"
      ],
      "metadata": {
        "id": "Nt1_2J3pHwXI"
      },
      "execution_count": null,
      "outputs": []
    },
    {
      "cell_type": "code",
      "source": [
        "# tip > 5\n",
        "df[df.tip > 5]"
      ],
      "metadata": {
        "id": "ec6-2mJrHwdW"
      },
      "execution_count": null,
      "outputs": []
    },
    {
      "cell_type": "code",
      "source": [
        "# prompt: filter tip > 5 and total_bill < 20\n",
        "## and --->>> &\n",
        "### or ----->> |\n",
        "df[(df['tip'] > 5) & (df['total_bill'] < 20)]\n"
      ],
      "metadata": {
        "id": "zegy6w2fIqBS"
      },
      "execution_count": null,
      "outputs": []
    },
    {
      "cell_type": "code",
      "source": [
        "#check nulls\n",
        "df.isnull().sum()"
      ],
      "metadata": {
        "id": "1-ooh8WaI8SJ"
      },
      "execution_count": null,
      "outputs": []
    },
    {
      "cell_type": "code",
      "source": [
        "# Filter where tip is null\n",
        "\n",
        "df[df['tip'].isnull()]\n"
      ],
      "metadata": {
        "id": "3PVagRKUJOkJ"
      },
      "execution_count": null,
      "outputs": []
    },
    {
      "cell_type": "code",
      "source": [
        "# delete nulls\n",
        "df_1 = df.dropna()"
      ],
      "metadata": {
        "id": "MjKpPEtgJWdR"
      },
      "execution_count": 96,
      "outputs": []
    },
    {
      "cell_type": "code",
      "source": [
        "df_1.shape\n",
        "df_1.isnull().sum()"
      ],
      "metadata": {
        "id": "9Ivtt4JyJ7hE"
      },
      "execution_count": null,
      "outputs": []
    },
    {
      "cell_type": "code",
      "source": [
        "#histogram tip\n",
        "\n",
        "df['tip'].plot.hist(bins=10)\n"
      ],
      "metadata": {
        "id": "pGFkuRj1N8Hp"
      },
      "execution_count": null,
      "outputs": []
    },
    {
      "cell_type": "code",
      "source": [
        "# skewness tip\n",
        "\n",
        "df['tip'].skew()\n"
      ],
      "metadata": {
        "id": "q4UnamLVOF-U"
      },
      "execution_count": null,
      "outputs": []
    },
    {
      "cell_type": "code",
      "source": [
        "#  histogram total bill\n",
        "\n",
        "df['total_bill'].plot.hist(bins=10)\n"
      ],
      "metadata": {
        "id": "kr40JQsbOPYR"
      },
      "execution_count": null,
      "outputs": []
    },
    {
      "cell_type": "code",
      "source": [
        "#  boxplot tip\n",
        "\n",
        "df['tip'].plot.box()\n"
      ],
      "metadata": {
        "id": "1JJ5qKxiO4HP"
      },
      "execution_count": null,
      "outputs": []
    },
    {
      "cell_type": "code",
      "source": [
        "# skewness total_bill\n",
        "\n",
        "df['total_bill'].skew()\n"
      ],
      "metadata": {
        "id": "lUTx4mfEOPdI"
      },
      "execution_count": null,
      "outputs": []
    },
    {
      "cell_type": "code",
      "source": [
        "#fill with 0\n",
        "df.fillna(0)"
      ],
      "metadata": {
        "id": "7uH4UoZnKDX8"
      },
      "execution_count": null,
      "outputs": []
    },
    {
      "cell_type": "code",
      "source": [
        "#  df fill na's with mean\n",
        "\n",
        "df.fillna(df.mean())\n"
      ],
      "metadata": {
        "id": "vZaGlezeKJSP"
      },
      "execution_count": null,
      "outputs": []
    },
    {
      "cell_type": "code",
      "source": [
        "# fill na's with median\n",
        "\n",
        "df  = df.fillna(df.median())\n"
      ],
      "metadata": {
        "id": "0Gv4-8jnJWh3"
      },
      "execution_count": null,
      "outputs": []
    },
    {
      "cell_type": "code",
      "source": [
        "df.describe().T"
      ],
      "metadata": {
        "id": "pAF4De0MJ1H_"
      },
      "execution_count": null,
      "outputs": []
    },
    {
      "cell_type": "code",
      "source": [
        "##Outlier bounds for tip\n",
        "IQR = df['tip'].quantile(0.75) - df['tip'].quantile(0.25)\n",
        "lower_limit = df['tip'].quantile(0.25) - 2 * IQR\n",
        "upper_limit = df['tip'].quantile(0.75) + 2 * IQR\n",
        "print(lower_limit)\n",
        "print(upper_limit)"
      ],
      "metadata": {
        "id": "DrOMmQYtJ1Ro"
      },
      "execution_count": null,
      "outputs": []
    },
    {
      "cell_type": "code",
      "source": [
        "df[(df['tip']  < lower_limit ) | (df['tip'] > upper_limit)]"
      ],
      "metadata": {
        "id": "4O8QlCmILFQ8"
      },
      "execution_count": null,
      "outputs": []
    },
    {
      "cell_type": "code",
      "source": [
        "q3 = df['tip'].quantile(0.75)"
      ],
      "metadata": {
        "id": "2238dUyBM6wU"
      },
      "execution_count": 109,
      "outputs": []
    },
    {
      "cell_type": "code",
      "source": [
        "df.loc[(df['tip'] < lower_limit) | (df['tip'] > upper_limit), 'tip'] = q3"
      ],
      "metadata": {
        "id": "SvAOIQHCM65r"
      },
      "execution_count": 110,
      "outputs": []
    },
    {
      "cell_type": "code",
      "source": [
        "##Outlier bounds for tip\n",
        "IQR = df['total_bill'].quantile(0.75) - df['total_bill'].quantile(0.25)\n",
        "lower_limit = df['total_bill'].quantile(0.25) - 1.5 * IQR\n",
        "upper_limit = df['total_bill'].quantile(0.75) + 1.5 * IQR\n",
        "print(lower_limit)\n",
        "print(upper_limit)"
      ],
      "metadata": {
        "id": "Ow2qyA2NLoIJ"
      },
      "execution_count": null,
      "outputs": []
    },
    {
      "cell_type": "code",
      "source": [
        "df[(df['total_bill']  < lower_limit ) | (df['total_bill'] > upper_limit)]"
      ],
      "metadata": {
        "id": "kAWMAwy_MFbe"
      },
      "execution_count": null,
      "outputs": []
    },
    {
      "cell_type": "code",
      "source": [
        "q3 = df['total_bill'].quantile(0.75)"
      ],
      "metadata": {
        "id": "S8WT8AjTNUPC"
      },
      "execution_count": 113,
      "outputs": []
    },
    {
      "cell_type": "code",
      "source": [
        "df.loc[(df['total_bill'] < lower_limit) | (df['total_bill'] > upper_limit), 'total_bill'] = q3"
      ],
      "metadata": {
        "id": "qb20I5DnNMyP"
      },
      "execution_count": 114,
      "outputs": []
    },
    {
      "cell_type": "code",
      "source": [
        "df.describe().T"
      ],
      "metadata": {
        "id": "lIsp4LEUNNAa"
      },
      "execution_count": null,
      "outputs": []
    },
    {
      "cell_type": "code",
      "source": [
        "df.corr()"
      ],
      "metadata": {
        "id": "fMM9kuChNjDE"
      },
      "execution_count": null,
      "outputs": []
    },
    {
      "cell_type": "code",
      "source": [
        "#Histogram tip again\n",
        "\n",
        "df['tip'].plot.hist(bins=10)\n"
      ],
      "metadata": {
        "id": "v8s6WEA7ObQd"
      },
      "execution_count": null,
      "outputs": []
    },
    {
      "cell_type": "code",
      "source": [
        "#  skewness tip again\n",
        "\n",
        "df['tip'].skew()\n"
      ],
      "metadata": {
        "id": "Pko6plRbOlkX"
      },
      "execution_count": null,
      "outputs": []
    },
    {
      "cell_type": "code",
      "source": [
        "#  boxplot tip\n",
        "\n",
        "df['tip'].plot.box()\n"
      ],
      "metadata": {
        "id": "tpf6dvXgOsIo"
      },
      "execution_count": null,
      "outputs": []
    },
    {
      "cell_type": "code",
      "source": [
        "df.info()"
      ],
      "metadata": {
        "id": "9cGf-pV-PvI5"
      },
      "execution_count": null,
      "outputs": []
    },
    {
      "cell_type": "code",
      "source": [
        "import matplotlib.pyplot as plt\n",
        "import seaborn as sns"
      ],
      "metadata": {
        "id": "ql6oLsAFcPbQ"
      },
      "execution_count": 121,
      "outputs": []
    },
    {
      "cell_type": "code",
      "source": [
        "from numpy import mean\n",
        "from numpy import median\n",
        "barplot = sns.barplot(x = \"gender\" , y = \"tip\" ,  data = df , palette = 'pastel' , ci = None ,\n",
        "              estimator = median ).set(title = \"Klasslara ve cinslere gore sag qalanlarin sayi\")\n",
        "\n",
        "plt.show()\n"
      ],
      "metadata": {
        "id": "3YvcwKcScUbG"
      },
      "execution_count": null,
      "outputs": []
    },
    {
      "cell_type": "code",
      "source": [
        "sns.countplot(x='gender', data=df)"
      ],
      "metadata": {
        "id": "wOU0YlVfcRRq"
      },
      "execution_count": null,
      "outputs": []
    },
    {
      "cell_type": "code",
      "source": [
        "tc = df.corr()\n",
        "sns.heatmap(tc,cmap='coolwarm')\n",
        "plt.title('Korrelyasiya heatmap')"
      ],
      "metadata": {
        "id": "CGqQOVNzcRX3"
      },
      "execution_count": null,
      "outputs": []
    },
    {
      "cell_type": "code",
      "source": [
        "df[\"gender\"].value_counts().plot.pie(shadow=True, autopct=\"%1.1f%%\")\n",
        "plt.legend()"
      ],
      "metadata": {
        "id": "YygEMivncRde"
      },
      "execution_count": null,
      "outputs": []
    },
    {
      "cell_type": "code",
      "source": [
        "plt.hist(df['total_bill'])"
      ],
      "metadata": {
        "id": "KShjtc_tcRip"
      },
      "execution_count": null,
      "outputs": []
    },
    {
      "cell_type": "code",
      "source": [
        "sns.scatterplot(x = \"total_bill\", y = \"tip\", hue= \"gender\", data = df)"
      ],
      "metadata": {
        "id": "_lG9uS0iczqZ"
      },
      "execution_count": null,
      "outputs": []
    },
    {
      "cell_type": "markdown",
      "source": [
        "### Dummy Variable"
      ],
      "metadata": {
        "id": "WftRcx2OJZ6o"
      }
    },
    {
      "cell_type": "code",
      "source": [
        "##Dummy variable\n",
        "dmy = pd.get_dummies(df.select_dtypes('category') )\n",
        "dmy.head()\n",
        "cat_columns = df.select_dtypes('category')\n",
        "num_cols = df.drop(cat_columns , axis = 1)\n",
        "df_dummy = pd.concat([num_cols , dmy] , axis= 1)\n",
        "df_dummy.head()\n"
      ],
      "metadata": {
        "id": "axS1eWHxH5bQ"
      },
      "execution_count": null,
      "outputs": []
    },
    {
      "cell_type": "code",
      "source": [
        "corr = df_dummy.corr()\n",
        "corr"
      ],
      "metadata": {
        "id": "x0-Eo4hEMBjg"
      },
      "execution_count": null,
      "outputs": []
    },
    {
      "cell_type": "code",
      "source": [
        "##Dummy variable\n",
        "dmy = pd.get_dummies(df.select_dtypes('category') ,  drop_first = True)\n",
        "dmy.head()\n",
        "cat_columns = df.select_dtypes('category')\n",
        "num_cols = df.drop(cat_columns , axis = 1)\n",
        "df_dummy2 = pd.concat([num_cols , dmy] , axis= 1)\n",
        "df_dummy2.head()"
      ],
      "metadata": {
        "id": "_K7QQLNyL3Hr"
      },
      "execution_count": null,
      "outputs": []
    },
    {
      "cell_type": "code",
      "source": [
        "df_dummy2.corr()"
      ],
      "metadata": {
        "id": "2THfNUcCK9Gz"
      },
      "execution_count": null,
      "outputs": []
    },
    {
      "cell_type": "code",
      "source": [
        "#group by smoker tip mean\n",
        "\n",
        "df.groupby('smoker')['tip'].mean()\n"
      ],
      "metadata": {
        "id": "M8LChzuIJWCn"
      },
      "execution_count": null,
      "outputs": []
    },
    {
      "cell_type": "code",
      "source": [
        "# Group by gender male tip\n",
        "\n",
        "df.groupby('gender')['tip'].mean()\n"
      ],
      "metadata": {
        "id": "fvRYxDe0JWH0"
      },
      "execution_count": null,
      "outputs": []
    },
    {
      "cell_type": "code",
      "source": [
        "# group by day time summarise  tip mean\n",
        "\n",
        "df.groupby(['day', 'time'])['tip'].mean()\n"
      ],
      "metadata": {
        "id": "ktaMpvsQJWN8"
      },
      "execution_count": null,
      "outputs": []
    },
    {
      "cell_type": "code",
      "source": [
        "# prompt: group by gender smoker\n",
        "\n",
        "df.groupby(['gender', 'smoker'])['tip'].mean()\n"
      ],
      "metadata": {
        "id": "AqRIGRndJXZI"
      },
      "execution_count": null,
      "outputs": []
    },
    {
      "cell_type": "code",
      "source": [
        "df = df_dummy2\n",
        "df.head()"
      ],
      "metadata": {
        "id": "Ha08awNxJXfY"
      },
      "execution_count": null,
      "outputs": []
    },
    {
      "cell_type": "code",
      "source": [
        "# prompt: boxplot total bill and tip\n",
        "\n",
        "import matplotlib.pyplot as plt\n",
        "\n",
        "df.boxplot(column=['total_bill', 'tip'], grid=True)\n",
        "plt.show()\n"
      ],
      "metadata": {
        "id": "SO-lHDimORUF"
      },
      "execution_count": null,
      "outputs": []
    },
    {
      "cell_type": "code",
      "source": [
        "df.head()"
      ],
      "metadata": {
        "id": "qSNOoFp3SKs4"
      },
      "execution_count": null,
      "outputs": []
    },
    {
      "cell_type": "code",
      "source": [
        "# create copy of\n",
        "df2 = df.copy()\n"
      ],
      "metadata": {
        "id": "_5LeGYnxR3rV"
      },
      "execution_count": 139,
      "outputs": []
    },
    {
      "cell_type": "markdown",
      "source": [
        "Feature Scaling\n"
      ],
      "metadata": {
        "id": "WIC8rXpVOe5a"
      }
    },
    {
      "cell_type": "code",
      "source": [
        "#Standardization -- zscore\n",
        "from sklearn.preprocessing import StandardScaler\n",
        "scaler = StandardScaler()\n",
        "columns_to_scale = ['tip', 'total_bill']\n",
        "df2[columns_to_scale] = scaler.fit_transform(df2[columns_to_scale])"
      ],
      "metadata": {
        "id": "iFfIFGcjPX32"
      },
      "execution_count": 140,
      "outputs": []
    },
    {
      "cell_type": "code",
      "source": [
        "df2.head()"
      ],
      "metadata": {
        "id": "RmqtHs74QFoH"
      },
      "execution_count": null,
      "outputs": []
    },
    {
      "cell_type": "code",
      "source": [
        "# prompt: mean df2 total_bill\n",
        "\n",
        "print(df2['total_bill'].mean())\n",
        "print(df2['total_bill'].std())\n"
      ],
      "metadata": {
        "id": "WmJIPlWmStiO"
      },
      "execution_count": null,
      "outputs": []
    },
    {
      "cell_type": "code",
      "source": [
        "# prompt: boxplot total bill and tip\n",
        "\n",
        "import matplotlib.pyplot as plt\n",
        "\n",
        "df2.boxplot(column=['total_bill', 'tip'], grid=True)\n",
        "plt.show()\n"
      ],
      "metadata": {
        "id": "uZdin7lfQI93"
      },
      "execution_count": null,
      "outputs": []
    },
    {
      "cell_type": "code",
      "source": [
        "df.head()"
      ],
      "metadata": {
        "id": "30EKoR2jQpVl"
      },
      "execution_count": null,
      "outputs": []
    },
    {
      "cell_type": "code",
      "source": [
        "##Getting logarithm\n",
        "df['tip'] = np.log1p(df['tip'])\n",
        "df['total_bill'] = np.log1p(df['total_bill'])\n"
      ],
      "metadata": {
        "id": "83JJWvgfQfHM"
      },
      "execution_count": 145,
      "outputs": []
    },
    {
      "cell_type": "code",
      "source": [
        "df.head()"
      ],
      "metadata": {
        "id": "L52MX9mAQl8B"
      },
      "execution_count": null,
      "outputs": []
    },
    {
      "cell_type": "code",
      "source": [
        "# prompt: boxplot total bill and tip\n",
        "\n",
        "import matplotlib.pyplot as plt\n",
        "\n",
        "df.boxplot(column=['total_bill', 'tip'], grid=True)\n",
        "plt.show()"
      ],
      "metadata": {
        "id": "SKIFhQHuSbAE"
      },
      "execution_count": null,
      "outputs": []
    },
    {
      "cell_type": "code",
      "source": [
        "df.head()"
      ],
      "metadata": {
        "id": "uhKlA6hBTAYD"
      },
      "execution_count": null,
      "outputs": []
    },
    {
      "cell_type": "code",
      "source": [
        "df.describe().T"
      ],
      "metadata": {
        "id": "faGyUoJBTDDy"
      },
      "execution_count": null,
      "outputs": []
    }
  ]
}