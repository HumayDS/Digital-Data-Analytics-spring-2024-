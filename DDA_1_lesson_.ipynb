{
  "nbformat": 4,
  "nbformat_minor": 0,
  "metadata": {
    "colab": {
      "provenance": [],
      "authorship_tag": "ABX9TyM+nH+A+MsSqv/OlGMQaw+3",
      "include_colab_link": true
    },
    "kernelspec": {
      "name": "python3",
      "display_name": "Python 3"
    },
    "language_info": {
      "name": "python"
    }
  },
  "cells": [
    {
      "cell_type": "markdown",
      "metadata": {
        "id": "view-in-github",
        "colab_type": "text"
      },
      "source": [
        "<a href=\"https://colab.research.google.com/github/HumayDS/Digital-Data-Analytics-spring-2024-/blob/main/DDA_1_lesson_.ipynb\" target=\"_parent\"><img src=\"https://colab.research.google.com/assets/colab-badge.svg\" alt=\"Open In Colab\"/></a>"
      ]
    },
    {
      "cell_type": "code",
      "execution_count": 1,
      "metadata": {
        "id": "49dymm7ZKolf"
      },
      "outputs": [],
      "source": [
        "\n",
        "#Activate package\n",
        "import numpy as np\n",
        "import pandas as pd"
      ]
    },
    {
      "cell_type": "code",
      "source": [
        "\n",
        "#Extract data set and give name\n",
        "df = pd.read_csv(\"https://raw.githubusercontent.com/HumayDS/Digital-Data-Analytics-spring-2024-/main/tips.csv\")"
      ],
      "metadata": {
        "id": "FwmSyfZ4LiEA"
      },
      "execution_count": 2,
      "outputs": []
    },
    {
      "cell_type": "code",
      "source": [
        "#Monitor head of dataset\n",
        "df.head()"
      ],
      "metadata": {
        "id": "sXOGid6RNFmV"
      },
      "execution_count": null,
      "outputs": []
    },
    {
      "cell_type": "code",
      "source": [
        "#monitor tail of dataset\n",
        "df.tail()"
      ],
      "metadata": {
        "id": "MccDhflcNG7J"
      },
      "execution_count": null,
      "outputs": []
    },
    {
      "cell_type": "code",
      "source": [
        "#get more info about types\n",
        "df.info()"
      ],
      "metadata": {
        "id": "cnM3GjSlNJHe"
      },
      "execution_count": null,
      "outputs": []
    },
    {
      "cell_type": "code",
      "source": [
        "#describe datset\n",
        "df.describe().T"
      ],
      "metadata": {
        "id": "x60TiZPfNKaZ"
      },
      "execution_count": null,
      "outputs": []
    },
    {
      "cell_type": "code",
      "source": [
        "#filter   tip where total_bill = 50\n",
        "df[df['tip'] > 7]"
      ],
      "metadata": {
        "id": "8JrscFCGWLwt"
      },
      "execution_count": null,
      "outputs": []
    },
    {
      "cell_type": "code",
      "source": [
        "#Histogram tip\n",
        "df['tip'].hist()"
      ],
      "metadata": {
        "id": "ORxjeFR-WMDg"
      },
      "execution_count": null,
      "outputs": []
    },
    {
      "cell_type": "code",
      "source": [
        "# Calculate skewness of tip\n",
        "df['tip'].skew()"
      ],
      "metadata": {
        "id": "g_Vb1g25W0ST"
      },
      "execution_count": null,
      "outputs": []
    },
    {
      "cell_type": "code",
      "source": [
        "# Calculate kurtosis of tip\n",
        "df['tip'].kurtosis()"
      ],
      "metadata": {
        "id": "ckebkvLYW5mT"
      },
      "execution_count": null,
      "outputs": []
    },
    {
      "cell_type": "code",
      "source": [
        "#Calculate mean seperately\n",
        "df['tip'].mean()"
      ],
      "metadata": {
        "id": "S3h2QYOhNUcy"
      },
      "execution_count": null,
      "outputs": []
    },
    {
      "cell_type": "code",
      "source": [
        "#calculate std seperately\n",
        "df['tip'].std()"
      ],
      "metadata": {
        "id": "3Zke3uHbNglc"
      },
      "execution_count": null,
      "outputs": []
    },
    {
      "cell_type": "code",
      "source": [
        "### coefficient of variation\n",
        "df['tip'].std()/df['tip'].mean()"
      ],
      "metadata": {
        "id": "eXogc8biXDD7"
      },
      "execution_count": null,
      "outputs": []
    },
    {
      "cell_type": "code",
      "source": [
        "#Calculate mode seperately\n",
        "df['tip'].mode()"
      ],
      "metadata": {
        "id": "BlkSw3ayOLDf"
      },
      "execution_count": null,
      "outputs": []
    },
    {
      "cell_type": "code",
      "source": [
        "#Calculate coefficient of variation\n",
        "coefficient_of_variation_tip = df['tip'].std() / df['tip'].mean() * 100\n",
        "print(f\"Coefficient of variation of tip: {coefficient_of_variation_tip:.2f}%\")"
      ],
      "metadata": {
        "id": "sieYDh6oNgsi"
      },
      "execution_count": null,
      "outputs": []
    },
    {
      "cell_type": "code",
      "source": [
        "#Calculate correlation\n",
        "df.corr()"
      ],
      "metadata": {
        "id": "cFC8IWiQN9Wa"
      },
      "execution_count": null,
      "outputs": []
    },
    {
      "cell_type": "code",
      "source": [
        "# Calculate range\n",
        "tip_range = df['tip'].max() - df['tip'].min()\n",
        "print(f\"Range of tip: {tip_range}\")"
      ],
      "metadata": {
        "id": "RVE3VUOTOAad"
      },
      "execution_count": null,
      "outputs": []
    },
    {
      "cell_type": "code",
      "source": [
        "# Calculate quartiles\n",
        "Q1 = df['tip'].quantile(0.25)\n",
        "Q2 = df['tip'].quantile(0.5)\n",
        "Q3 = df['tip'].quantile(0.75)\n",
        "print(f\"Q1: {Q1}\")\n",
        "print(f\"Q2: {Q2}\")\n",
        "print(f\"Q3: {Q3}\")"
      ],
      "metadata": {
        "id": "_Gyck80iOZcu"
      },
      "execution_count": null,
      "outputs": []
    },
    {
      "cell_type": "code",
      "source": [
        "##Interquantile range\n",
        "IQR  = Q3 - Q1\n",
        "IQR"
      ],
      "metadata": {
        "id": "sqdo9rNHOept",
        "outputId": "6d3e97b4-ad65-421c-db2c-5c2b052a780f",
        "colab": {
          "base_uri": "https://localhost:8080/",
          "height": 0
        }
      },
      "execution_count": 19,
      "outputs": [
        {
          "output_type": "execute_result",
          "data": {
            "text/plain": [
              "1.5625"
            ]
          },
          "metadata": {},
          "execution_count": 19
        }
      ]
    },
    {
      "cell_type": "code",
      "source": [
        "outlier_threshold_upper = Q3 + 1.5 * IQR\n",
        "outlier_threshold_lower = Q1 - 1.5 * IQR"
      ],
      "metadata": {
        "id": "D4TzVvh4Osul"
      },
      "execution_count": 20,
      "outputs": []
    },
    {
      "cell_type": "code",
      "source": [
        "outlier_threshold_upper"
      ],
      "metadata": {
        "id": "O3FN7K9ZO-a6"
      },
      "execution_count": null,
      "outputs": []
    },
    {
      "cell_type": "code",
      "source": [
        "outlier_threshold_lower"
      ],
      "metadata": {
        "id": "RDWFwEwJO_Vw"
      },
      "execution_count": null,
      "outputs": []
    },
    {
      "cell_type": "code",
      "source": [
        "# Removing outliers\n",
        "outlier_indices = df.loc[(df['tip'] > outlier_threshold_upper) | (df['tip'] < outlier_threshold_lower)].index\n",
        "df_without_outliers = df.drop(outlier_indices)\n",
        "#Print the new dataframe without outliers\n",
        "df_without_outliers.head()"
      ],
      "metadata": {
        "id": "fh1yZSs0P9-q"
      },
      "execution_count": null,
      "outputs": []
    },
    {
      "cell_type": "code",
      "source": [
        "df_without_outliers.describe().T"
      ],
      "metadata": {
        "id": "0MruQQgeQQLH"
      },
      "execution_count": null,
      "outputs": []
    },
    {
      "cell_type": "code",
      "source": [
        "#monitor the variables\n",
        "%whos"
      ],
      "metadata": {
        "id": "jYQAqGSk8QM5"
      },
      "execution_count": null,
      "outputs": []
    },
    {
      "cell_type": "code",
      "source": [
        "df_without_outliers['tip'].hist()"
      ],
      "metadata": {
        "id": "85gZdZe8Xgek"
      },
      "execution_count": null,
      "outputs": []
    },
    {
      "cell_type": "code",
      "source": [
        "df_without_outliers['tip'].skew()"
      ],
      "metadata": {
        "id": "Eb-TC7FzXgkM"
      },
      "execution_count": null,
      "outputs": []
    },
    {
      "cell_type": "code",
      "source": [
        "df_without_outliers['tip'].kurtosis()"
      ],
      "metadata": {
        "id": "9aBQq_9BXzZk"
      },
      "execution_count": null,
      "outputs": []
    },
    {
      "cell_type": "code",
      "source": [
        "df_without_outliers.corr()"
      ],
      "metadata": {
        "id": "SvJMNVUFXpAv"
      },
      "execution_count": null,
      "outputs": []
    },
    {
      "cell_type": "code",
      "source": [
        "df.corr()"
      ],
      "metadata": {
        "id": "7cxQzWYjXre8"
      },
      "execution_count": null,
      "outputs": []
    },
    {
      "cell_type": "code",
      "source": [
        "#select 2 columns\n",
        "df[['tip', 'total_bill']]"
      ],
      "metadata": {
        "id": "j89mlvesOSNv"
      },
      "execution_count": null,
      "outputs": []
    },
    {
      "cell_type": "code",
      "source": [
        "#  select tip and total_bill rows from 20 to 40\n",
        "df[['tip', 'total_bill']].iloc[20:40]"
      ],
      "metadata": {
        "id": "NwKQ8mgUOZEc"
      },
      "execution_count": null,
      "outputs": []
    },
    {
      "cell_type": "code",
      "source": [
        "df.iloc[20:40, 1:4]"
      ],
      "metadata": {
        "id": "QwJv_24mOu4j"
      },
      "execution_count": null,
      "outputs": []
    },
    {
      "cell_type": "code",
      "source": [
        "#  sort descending tip\n",
        "df.sort_values(by='tip', ascending=False)"
      ],
      "metadata": {
        "id": "uo5-CxnKOhio"
      },
      "execution_count": null,
      "outputs": []
    }
  ]
}